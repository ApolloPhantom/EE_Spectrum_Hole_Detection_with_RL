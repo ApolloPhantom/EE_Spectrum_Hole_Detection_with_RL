{
 "cells": [
  {
   "metadata": {
    "ExecuteTime": {
     "end_time": "2024-11-30T08:48:21.176545Z",
     "start_time": "2024-11-30T08:48:20.772125Z"
    }
   },
   "cell_type": "code",
   "source": [
    "import numpy as np\n",
    "import matplotlib.pyplot as plt\n",
    "\n",
    "class SpectrumEnv:\n",
    "    def __init__(self, num_channels=10, max_steps=50):\n",
    "        \"\"\"\n",
    "        Custom environment for spectrum hole detection without external libraries.\n",
    "        :param num_channels: Number of spectrum channels to monitor.\n",
    "        :param max_steps: Maximum steps per episode.\n",
    "        \"\"\"\n",
    "        self.num_channels = num_channels\n",
    "        self.max_steps = max_steps\n",
    "        \n",
    "        # Energy cost parameters\n",
    "        self.energy_per_action = 1.0  # Energy consumed per sensing action\n",
    "        self.penalty_for_wrong_detection = 2.0  # Penalty for selecting an occupied channel\n",
    "        \n",
    "        # Reward configuration\n",
    "        self.reward_for_detection = 10.0  # Reward for correctly detecting a free channel\n",
    "        \n",
    "        # Internal state variables\n",
    "        self.state = None\n",
    "        self.current_step = 0\n",
    "        self.done = False\n",
    "    \n",
    "    def reset(self):\n",
    "        \"\"\"\n",
    "        Reset the environment to its initial state.\n",
    "        \"\"\"\n",
    "        self.state = np.random.choice([0, 1], size=(self.num_channels,), p=[0.5, 0.5])\n",
    "        self.current_step = 0\n",
    "        self.done = False\n",
    "        return self.state\n",
    "    \n",
    "    def step(self, action):\n",
    "        \"\"\"\n",
    "        Execute an action in the environment.\n",
    "        :param action: The channel chosen for sensing (integer index).\n",
    "        :return: observation (state), reward, done, info\n",
    "        \"\"\"\n",
    "        if self.done:\n",
    "            raise ValueError(\"Episode has ended. Please reset the environment.\")\n",
    "        \n",
    "        # Increment step count\n",
    "        self.current_step += 1\n",
    "        if self.current_step >= self.max_steps:\n",
    "            self.done = True\n",
    "        \n",
    "        # Calculate reward\n",
    "        if self.state[action] == 1:  # Correct detection\n",
    "            reward = self.reward_for_detection - self.energy_per_action\n",
    "        else:  # Incorrect detection\n",
    "            reward = -self.penalty_for_wrong_detection - self.energy_per_action\n",
    "        \n",
    "        # Info dictionary\n",
    "        info = {\n",
    "            \"energy_consumed\": self.energy_per_action,\n",
    "            \"steps_remaining\": self.max_steps - self.current_step\n",
    "        }\n",
    "        \n",
    "        return self.state, reward, self.done, info\n",
    "    \n",
    "    def render(self):\n",
    "        \"\"\"\n",
    "        Render the environment by displaying the state of channels in real-time.\n",
    "        \"\"\"\n",
    "        plt.ion()  # Turn on interactive mode\n",
    "        if not hasattr(self, 'fig'):  # Check if the plot is initialized\n",
    "            self.fig, self.ax = plt.subplots(figsize=(10, 1))\n",
    "            self.bar_container = self.ax.bar(range(self.num_channels), self.state, \n",
    "                                             color=['red' if x == 0 else 'green' for x in self.state])\n",
    "            self.ax.set_title(\"Spectrum Channels (Red = Occupied, Green = Free)\")\n",
    "            self.ax.set_xlabel(\"Channel Index\")\n",
    "            self.ax.set_ylabel(\"State\")\n",
    "            self.ax.set_xticks(range(self.num_channels))\n",
    "            self.ax.set_yticks([0, 1])\n",
    "            self.ax.set_yticklabels([\"Occupied\", \"Free\"])\n",
    "        else:\n",
    "            for bar, value in zip(self.bar_container, self.state):\n",
    "                bar.set_color('red' if value == 0 else 'green')\n",
    "                bar.set_height(value)\n",
    "        \n",
    "        self.fig.canvas.draw()\n",
    "        self.fig.canvas.flush_events()\n",
    "\n",
    "%matplotlib auto\n",
    "env = SpectrumEnv(num_channels=10, max_steps=10)\n",
    "\n",
    "# Reset the environment\n",
    "state = env.reset()\n",
    "env.render()\n",
    "\n",
    "total_reward = 0\n",
    "while not env.done:\n",
    "    # Random action selection\n",
    "    action = np.random.randint(0, env.num_channels)\n",
    "    state, reward, done, info = env.step(action)\n",
    "    print(f\"Step: {env.current_step}, Action: {action}, Reward: {reward}, Info: {info}\")\n",
    "    total_reward += reward\n",
    "    env.render()\n",
    "\n",
    "print(f\"Total Reward: {total_reward}\")\n"
   ],
   "id": "5259a61c2f131d96",
   "outputs": [
    {
     "name": "stdout",
     "output_type": "stream",
     "text": [
      "Using matplotlib backend: inline\n",
      "Step: 1, Action: 4, Reward: -3.0, Info: {'energy_consumed': 1.0, 'steps_remaining': 9}\n",
      "Step: 2, Action: 4, Reward: -3.0, Info: {'energy_consumed': 1.0, 'steps_remaining': 8}\n",
      "Step: 3, Action: 8, Reward: 9.0, Info: {'energy_consumed': 1.0, 'steps_remaining': 7}\n",
      "Step: 4, Action: 8, Reward: 9.0, Info: {'energy_consumed': 1.0, 'steps_remaining': 6}\n",
      "Step: 5, Action: 4, Reward: -3.0, Info: {'energy_consumed': 1.0, 'steps_remaining': 5}\n",
      "Step: 6, Action: 5, Reward: 9.0, Info: {'energy_consumed': 1.0, 'steps_remaining': 4}\n",
      "Step: 7, Action: 5, Reward: 9.0, Info: {'energy_consumed': 1.0, 'steps_remaining': 3}\n",
      "Step: 8, Action: 4, Reward: -3.0, Info: {'energy_consumed': 1.0, 'steps_remaining': 2}\n",
      "Step: 9, Action: 6, Reward: 9.0, Info: {'energy_consumed': 1.0, 'steps_remaining': 1}\n",
      "Step: 10, Action: 8, Reward: 9.0, Info: {'energy_consumed': 1.0, 'steps_remaining': 0}\n",
      "Total Reward: 42.0\n"
     ]
    },
    {
     "data": {
      "text/plain": [
       "<Figure size 1000x100 with 1 Axes>"
      ],
      "image/png": "[encoded data removed]"
     },
     "metadata": {},
     "output_type": "display_data"
    }
   ],
   "execution_count": 71
  },
  {
   "metadata": {
    "ExecuteTime": {
     "end_time": "2024-11-30T08:48:21.192180Z",
     "start_time": "2024-11-30T08:48:21.176545Z"
    }
   },
   "cell_type": "code",
   "source": "",
   "id": "d723fece5600ee70",
   "outputs": [],
   "execution_count": null
  }
 ],
 "metadata": {
  "kernelspec": {
   "display_name": ".venv",
   "language": "python",
   "name": "python3"
  },
  "language_info": {
   "codemirror_mode": {
    "name": "ipython",
    "version": 2
   },
   "file_extension": ".py",
   "mimetype": "text/x-python",
   "name": "python",
   "nbconvert_exporter": "python",
   "pygments_lexer": "ipython2",
   "version": "3.10.12"
  }
 },
 "nbformat": 4,
 "nbformat_minor": 5
}
