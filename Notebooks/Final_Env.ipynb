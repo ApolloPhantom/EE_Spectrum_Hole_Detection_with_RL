{
 "cells": [
  {
   "cell_type": "code",
   "id": "initial_id",
   "metadata": {
    "collapsed": true,
    "ExecuteTime": {
     "end_time": "2024-12-02T09:05:36.040311Z",
     "start_time": "2024-12-02T09:05:36.009502Z"
    }
   },
   "source": [
    "import numpy as np\n",
    "import time\n",
    "\n",
    "class SpectrumEnvironment:\n",
    "    def __init__(self, num_bands=10, steps=25):\n",
    "        self.num_bands = num_bands  # Total number of frequency bands\n",
    "        self.steps = steps\n",
    "        self.channel_states = [[] for _ in range(num_bands)]\n",
    "        self.transition_matrices = self._initialize_transition_matrices()\n",
    "        self.state = self._generate_spectrum_state()  # Current state of the spectrum\n",
    "        self.total_reward = 0  # Track total reward\n",
    "        self.rewards = []  # Track rewards for each step\n",
    "        self.energy_costs = []\n",
    "\n",
    "    def _initialize_transition_matrices(self):\n",
    "        \"\"\"\n",
    "        Generate a unique random Markov chain transition matrix for each band.\n",
    "        Each matrix ensures that the probabilities in each row sum to 1.\n",
    "        \"\"\"\n",
    "        matrices = []\n",
    "        for _ in range(self.num_bands):\n",
    "            # Generate a random 2x2 matrix\n",
    "            random_matrix = np.random.rand(2, 2)\n",
    "            # Normalize each row to sum to 1\n",
    "            transition_matrix = random_matrix / random_matrix.sum(axis=1, keepdims=True)\n",
    "            matrices.append(transition_matrix)\n",
    "        return matrices\n",
    "\n",
    "    def _generate_spectrum_state(self):\n",
    "        \"\"\"\n",
    "        Generate a spectrum state using Markov chain dynamics for each band.\n",
    "        Each band has a distinct transition matrix and evolves over 'steps' timesteps.\n",
    "        \"\"\"\n",
    "        new_states = []\n",
    "\n",
    "        for band in range(self.num_bands):\n",
    "            # Get the last state or default to 0 if no history exists\n",
    "            last_state = self.channel_states[band][-1] if self.channel_states[band] else 0\n",
    "\n",
    "            # Generate states for the next 'steps' timesteps using the Markov chain\n",
    "            band_states = []\n",
    "            for _ in range(self.steps):\n",
    "                # Determine the next state based on the Markov chain\n",
    "                transition_probabilities = self.transition_matrices[band][last_state]\n",
    "                next_state = np.random.choice([0, 1], p=transition_probabilities)\n",
    "                band_states.append(next_state)\n",
    "                last_state = next_state  # Update for the next step\n",
    "\n",
    "            # Append the generated states to history\n",
    "            self.channel_states[band] = band_states\n",
    "        return self.channel_states\n",
    "    \n",
    "    def step(self, time_step, band):\n",
    "        \"\"\"\n",
    "        Calculate the reward based on the state of a given channel at a specific timestep.\n",
    "        \n",
    "        Parameters:\n",
    "        - time_step (int): The time step to evaluate.\n",
    "        - band (int): The band (channel) number to evaluate.\n",
    "        \n",
    "        Returns:\n",
    "        - reward (int): The reward gained from the channel's state at the specified time step.\n",
    "        \"\"\"\n",
    "        # Ensure the inputs are within valid ranges\n",
    "        if not (0 <= band < self.num_bands):\n",
    "            raise ValueError(\"Band number out of range.\")\n",
    "        if not (0 <= time_step < self.steps):\n",
    "            raise ValueError(\"Time step out of range.\")\n",
    "\n",
    "        # Get the state of the specified channel at the given timestep\n",
    "        state = self.channel_states[band][time_step]\n",
    "\n",
    "        # Calculate the reward\n",
    "        reward = 30 if state == 0 else -15\n",
    "\n",
    "        # Update the total reward and track the step reward\n",
    "        self.total_reward += reward\n",
    "        self.rewards.append(reward)\n",
    "\n",
    "        return reward\n",
    "    \n",
    "    def reset(self):\n",
    "        \"\"\"Reset the environment to an initial state.\"\"\"\n",
    "        self.transition_matrices = self._initialize_transition_matrices()\n",
    "        self.state = self._generate_spectrum_state()\n",
    "        self.total_reward = 0\n",
    "        self.rewards = []\n",
    "        self.energy_costs = []\n",
    "        return self.state\n"
   ],
   "outputs": [],
   "execution_count": 19
  },
  {
   "metadata": {
    "ExecuteTime": {
     "end_time": "2024-12-02T09:05:36.074961Z",
     "start_time": "2024-12-02T09:05:36.043706Z"
    }
   },
   "cell_type": "code",
   "source": [
    "env = SpectrumEnvironment()\n",
    "for i in env.state:\n",
    "    print(i)\n"
   ],
   "id": "a5525f740f2d87cb",
   "outputs": [
    {
     "name": "stdout",
     "output_type": "stream",
     "text": [
      "[1, 0, 1, 1, 0, 1, 0, 1, 1, 0, 1, 1, 0, 1, 0, 1, 1, 1, 0, 1, 0, 1, 1, 1, 1]\n",
      "[1, 0, 0, 1, 1, 0, 1, 1, 0, 1, 1, 1, 0, 1, 0, 1, 1, 1, 1, 1, 1, 0, 1, 1, 0]\n",
      "[1, 1, 1, 0, 1, 1, 1, 0, 1, 1, 0, 0, 1, 0, 1, 1, 0, 1, 0, 0, 1, 0, 1, 1, 0]\n",
      "[0, 0, 0, 1, 1, 1, 1, 1, 1, 1, 1, 1, 1, 1, 1, 1, 1, 1, 1, 1, 1, 1, 1, 1, 1]\n",
      "[0, 0, 0, 0, 1, 0, 1, 0, 0, 1, 1, 0, 1, 0, 1, 1, 0, 0, 0, 1, 0, 1, 0, 0, 1]\n",
      "[0, 0, 1, 1, 1, 1, 1, 1, 1, 1, 1, 1, 1, 1, 1, 1, 1, 1, 1, 1, 1, 1, 1, 1, 1]\n",
      "[1, 1, 0, 1, 0, 0, 0, 0, 1, 0, 1, 0, 1, 0, 0, 0, 1, 0, 1, 1, 1, 0, 1, 1, 0]\n",
      "[1, 0, 1, 0, 0, 1, 1, 0, 0, 1, 0, 0, 1, 0, 1, 1, 1, 1, 1, 0, 1, 1, 0, 0, 0]\n",
      "[1, 1, 1, 1, 0, 0, 0, 0, 0, 0, 0, 0, 0, 0, 0, 0, 0, 1, 1, 1, 1, 1, 1, 1, 1]\n",
      "[0, 0, 0, 0, 0, 0, 0, 0, 0, 0, 1, 0, 0, 1, 0, 0, 1, 0, 0, 0, 0, 0, 1, 0, 0]\n"
     ]
    }
   ],
   "execution_count": 20
  }
 ],
 "metadata": {
  "kernelspec": {
   "display_name": "Python 3",
   "language": "python",
   "name": "python3"
  },
  "language_info": {
   "codemirror_mode": {
    "name": "ipython",
    "version": 2
   },
   "file_extension": ".py",
   "mimetype": "text/x-python",
   "name": "python",
   "nbconvert_exporter": "python",
   "pygments_lexer": "ipython2",
   "version": "2.7.6"
  }
 },
 "nbformat": 4,
 "nbformat_minor": 5
}
