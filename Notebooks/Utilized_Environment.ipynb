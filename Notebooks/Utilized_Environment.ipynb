{
 "cells": [
  {
   "cell_type": "code",
   "execution_count": null,
   "id": "initial_id",
   "metadata": {
    "collapsed": true
   },
   "outputs": [],
   "source": [
    "import numpy as np\n",
    "import matplotlib.pyplot as plt\n",
    "import matplotlib.animation as animation\n",
    "import random\n",
    "import time\n",
    "\n",
    "\n",
    "class SpectrumEnvironment:\n",
    "    def __init__(self, num_bands=10):\n",
    "        self.num_bands = num_bands  # Total number of frequency bands\n",
    "        self.state = self._generate_spectrum_state()  # Current state of the spectrum\n",
    "        self.total_reward = 0  # Track total reward\n",
    "        self.rewards = []  # Track rewards for each step\n",
    "        self.channel_history = [[] for _ in range(num_bands)]  # Store states for each channel\n",
    "\n",
    "    def _generate_spectrum_state(self):\n",
    "        \"\"\"Randomize the spectrum state: 0 (idle) or 1 (occupied).\"\"\"\n",
    "        return np.random.choice([0, 1], size=self.num_bands)\n",
    "\n",
    "    def step(self, action):\n",
    "        \"\"\"\n",
    "        Simulate sensing a specific band.\n",
    "        action: Integer representing the index of the band to sense.\n",
    "        Returns:\n",
    "            state: Updated spectrum state.\n",
    "            reward: Reward based on action.\n",
    "        \"\"\"\n",
    "        reward = 0\n",
    "        # Reward for sensing an idle band\n",
    "        if self.state[action] == 0:\n",
    "            reward = 20\n",
    "        else:\n",
    "            reward = -15\n",
    "\n",
    "        self.total_reward += reward\n",
    "        self.rewards.append(reward)\n",
    "        \n",
    "        # Record the current state in the history\n",
    "        for i in range(self.num_bands):\n",
    "            self.channel_history[i].append(self.state[i])\n",
    "    \n",
    "        # Randomize the spectrum state for the next step\n",
    "        self.state = self._generate_spectrum_state()\n",
    "        return self.state, reward\n",
    "\n",
    "    def reset(self):\n",
    "        \"\"\"Reset the environment to an initial state.\"\"\"\n",
    "        self.state = self._generate_spectrum_state()\n",
    "        self.total_reward = 0\n",
    "        self.rewards = []\n",
    "        return self.state\n"
   ]
  }
 ],
 "metadata": {
  "kernelspec": {
   "display_name": "Python 3",
   "language": "python",
   "name": "python3"
  },
  "language_info": {
   "codemirror_mode": {
    "name": "ipython",
    "version": 2
   },
   "file_extension": ".py",
   "mimetype": "text/x-python",
   "name": "python",
   "nbconvert_exporter": "python",
   "pygments_lexer": "ipython2",
   "version": "2.7.6"
  }
 },
 "nbformat": 4,
 "nbformat_minor": 5
}
