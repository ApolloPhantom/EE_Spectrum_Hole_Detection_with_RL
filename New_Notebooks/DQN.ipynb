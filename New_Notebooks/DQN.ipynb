{
 "cells": [
  {
   "cell_type": "code",
   "execution_count": null,
   "metadata": {},
   "outputs": [],
   "source": [
    "import torch\n",
    "import torch.nn as nn\n",
    "import torch.optim as optim\n",
    "import random\n",
    "import numpy as np\n",
    "from collections import deque\n",
    "from scipy.stats import entropy\n",
    "from environments import *\n",
    "device = torch.device(\"cuda\" if torch.cuda.is_available() else \"cpu\")"
   ]
  },
  {
   "cell_type": "code",
   "execution_count": 7,
   "metadata": {},
   "outputs": [],
   "source": [
    "class DQN(nn.Module):\n",
    "    def __init__(self, state_dim, action_dim):\n",
    "        super(DQN, self).__init__()\n",
    "        self.fc1 = nn.Linear(state_dim, 64)\n",
    "        self.fc2 = nn.Linear(64, 64)\n",
    "        self.fc3 = nn.Linear(64, action_dim)\n",
    "        \n",
    "    def forward(self, x):\n",
    "        x = torch.relu(self.fc1(x))\n",
    "        x = torch.relu(self.fc2(x))\n",
    "        return self.fc3(x)\n",
    "\n",
    "# Replay Memory\n",
    "class ReplayBuffer:\n",
    "    def __init__(self, capacity):\n",
    "        self.buffer = deque(maxlen=capacity)\n",
    "        \n",
    "    def push(self, state, action, reward, next_state, done):\n",
    "        self.buffer.append((state, action, reward, next_state, done))\n",
    "        \n",
    "    def sample(self, batch_size):\n",
    "        batch = random.sample(self.buffer, batch_size)\n",
    "        state, action, reward, next_state, done = zip(*batch)\n",
    "        return (np.array(state), np.array(action), np.array(reward), \n",
    "                np.array(next_state), np.array(done))\n",
    "    \n",
    "    def __len__(self):\n",
    "        return len(self.buffer)\n",
    "\n",
    "# Epsilon-greedy action selection\n",
    "def select_action(state, policy_net, epsilon, action_dim):\n",
    "    if random.random() < epsilon:\n",
    "        return random.randint(0, action_dim - 1)\n",
    "    else:\n",
    "        with torch.no_grad():\n",
    "            state = torch.tensor(state, dtype=torch.float32).unsqueeze(0).to(device)\n",
    "            return policy_net(state).argmax(dim=1).item()\n",
    "\n",
    "# Training the DQN\n",
    "\n",
    "def train_dqn(env, episodes=1000, gamma=0.99, batch_size=32, \n",
    "              lr=0.001, epsilon_start=1.0, epsilon_end=0.01, \n",
    "              epsilon_decay=0.995, memory_size=10000, target_update=10):\n",
    "    \n",
    "    state_dim = 1  # Since observation is entropy (scalar value)\n",
    "    action_dim = 2  # Actions are binary (0 or 1)\n",
    "    \n",
    "    policy_net = DQN(state_dim, action_dim).to(device)\n",
    "    target_net = DQN(state_dim, action_dim).to(device)\n",
    "    target_net.load_state_dict(policy_net.state_dict())\n",
    "    target_net.eval()\n",
    "    \n",
    "    optimizer = optim.Adam(policy_net.parameters(), lr=lr)\n",
    "    memory = ReplayBuffer(memory_size)\n",
    "    epsilon = epsilon_start\n",
    "    \n",
    "    for episode in range(episodes):\n",
    "        state = env.reset()\n",
    "        done = False\n",
    "        episode_reward = 0\n",
    "        \n",
    "        while not done:\n",
    "            action = select_action([state], policy_net, epsilon, action_dim)\n",
    "            next_state, reward, done, info = env.step(action)\n",
    "            memory.push([state], action, reward, [next_state], done)\n",
    "            state = next_state\n",
    "            episode_reward += reward\n",
    "            \n",
    "            if len(memory) > batch_size:\n",
    "                states, actions, rewards, next_states, dones = memory.sample(batch_size)\n",
    "                states = torch.tensor(states, dtype=torch.float32).to(device)\n",
    "                actions = torch.tensor(actions, dtype=torch.int64).unsqueeze(1).to(device)\n",
    "                rewards = torch.tensor(rewards, dtype=torch.float32).to(device)\n",
    "                next_states = torch.tensor(next_states, dtype=torch.float32).to(device)\n",
    "                dones = torch.tensor(dones, dtype=torch.float32).to(device)\n",
    "                \n",
    "                q_values = policy_net(states).gather(1, actions).squeeze()\n",
    "                next_q_values = target_net(next_states).max(1)[0].detach()\n",
    "                target_q_values = rewards + (gamma * next_q_values * (1 - dones))\n",
    "                \n",
    "                loss = nn.functional.mse_loss(q_values, target_q_values)\n",
    "                optimizer.zero_grad()\n",
    "                loss.backward()\n",
    "                optimizer.step()\n",
    "        \n",
    "        if episode % target_update == 0:\n",
    "            target_net.load_state_dict(policy_net.state_dict())\n",
    "        \n",
    "        epsilon = max(epsilon_end, epsilon * epsilon_decay)\n",
    "        \n",
    "        if episode % 100 == 0:\n",
    "            print(f\"Episode {episode}, Reward: {episode_reward}, Epsilon: {epsilon:.3f}\")\n",
    "    \n",
    "    return policy_net\n"
   ]
  },
  {
   "cell_type": "code",
   "execution_count": 8,
   "metadata": {},
   "outputs": [],
   "source": [
    "# env = SBEOS_Environment()\n",
    "# trained_model = train_dqn(env, episodes=500)"
   ]
  },
  {
   "cell_type": "code",
   "execution_count": null,
   "metadata": {},
   "outputs": [
    {
     "name": "stdout",
     "output_type": "stream",
     "text": [
      "Episode 0, Reward: 670, Epsilon: 0.995\n"
     ]
    }
   ],
   "source": [
    "env = SBEDS_Environment()\n",
    "trained_model = train_dqn(env, episodes=500)"
   ]
  }
 ],
 "metadata": {
  "kernelspec": {
   "display_name": "venv",
   "language": "python",
   "name": "python3"
  },
  "language_info": {
   "codemirror_mode": {
    "name": "ipython",
    "version": 3
   },
   "file_extension": ".py",
   "mimetype": "text/x-python",
   "name": "python",
   "nbconvert_exporter": "python",
   "pygments_lexer": "ipython3",
   "version": "3.10.12"
  }
 },
 "nbformat": 4,
 "nbformat_minor": 2
}
