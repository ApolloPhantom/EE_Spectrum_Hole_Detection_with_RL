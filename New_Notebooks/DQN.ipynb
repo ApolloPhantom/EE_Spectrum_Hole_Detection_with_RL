{
 "cells": [
  {
   "cell_type": "code",
   "execution_count": null,
   "metadata": {},
   "outputs": [],
   "source": [
    "import torch\n",
    "import torch.nn as nn\n",
    "import torch.optim as optim\n",
    "import random\n",
    "import numpy as np\n",
    "from collections import deque\n",
    "from scipy.stats import entropy\n",
    "from sklearn.metrics import accuracy_score, precision_score, recall_score, f1_score, roc_auc_score, roc_curve\n",
    "import matplotlib.pyplot as plt\n",
    "from environments import *\n",
    "from models import *\n",
    "import torch.nn.functional as F\n",
    "device = torch.device(\"cuda\" if torch.cuda.is_available() else \"cpu\")"
   ]
  },
  {
   "cell_type": "code",
   "execution_count": null,
   "metadata": {},
   "outputs": [],
   "source": [
    "rewards_dict = {}\n",
    "for i in ['dqn','cnn','ann_lstm','cnn_lstm']:\n",
    "    env = SBEOS_Environment(window_size=10)\n",
    "    rewards, metrics, epoch_lengths, window_sizes, y_true, y_scores = train_dqn(env,model_type=i)\n",
    "    plot_metrics(rewards, metrics, epoch_lengths, window_sizes, y_true, y_scores, avg_window=10)\n",
    "    rewards_dict[i] = rewards"
   ]
  },
  {
   "cell_type": "code",
   "execution_count": null,
   "metadata": {},
   "outputs": [],
   "source": [
    "plot_reward_comparison(rewards_dict, avg_window=10)"
   ]
  },
  {
   "cell_type": "code",
   "execution_count": null,
   "metadata": {},
   "outputs": [],
   "source": [
    "rewards_dict = {}\n",
    "for i in ['dqn','cnn','ann_lstm','cnn_lstm']:\n",
    "    env = SBEOS_Environment(window_size=20)\n",
    "    rewards, metrics, epoch_lengths, window_sizes, y_true, y_scores = train_dqn(env,model_type=i)\n",
    "    plot_metrics(rewards, metrics, epoch_lengths, window_sizes, y_true, y_scores, avg_window=10)\n",
    "    rewards_dict[i] = rewards\n",
    "plot_reward_comparison(rewards_dict, avg_window=10)"
   ]
  },
  {
   "cell_type": "code",
   "execution_count": null,
   "metadata": {},
   "outputs": [],
   "source": [
    "rewards_dict = {}\n",
    "for i in ['dqn','cnn','ann_lstm','cnn_lstm']:\n",
    "    env = SBEDS_Environment(window_size=10)\n",
    "    rewards, metrics, epoch_lengths, window_sizes, y_true, y_scores = train_dqn(env,model_type=i)\n",
    "    plot_metrics(rewards, metrics, epoch_lengths, window_sizes, y_true, y_scores, avg_window=10)\n",
    "    rewards_dict[i] = rewards\n",
    "plot_reward_comparison(rewards_dict, avg_window=10)"
   ]
  },
  {
   "cell_type": "code",
   "execution_count": null,
   "metadata": {},
   "outputs": [],
   "source": [
    "rewards_dict = {}\n",
    "for i in ['dqn','cnn','ann_lstm','cnn_lstm']:\n",
    "    env = SBEDS_Environment(window_size=20)\n",
    "    rewards, metrics, epoch_lengths, window_sizes, y_true, y_scores = train_dqn(env,model_type=i)\n",
    "    plot_metrics(rewards, metrics, epoch_lengths, window_sizes, y_true, y_scores, avg_window=10)\n",
    "    rewards_dict[i] = rewards\n",
    "plot_reward_comparison(rewards_dict, avg_window=10)"
   ]
  },
  {
   "cell_type": "code",
   "execution_count": null,
   "metadata": {},
   "outputs": [],
   "source": [
    "rewards_dict = {}\n",
    "for i in ['dqn','cnn','ann_lstm','cnn_lstm']:\n",
    "    env = SBOS_Environment(window_size=10)\n",
    "    rewards, metrics, epoch_lengths, window_sizes, y_true, y_scores = train_dqn(env,model_type=i)\n",
    "    plot_metrics(rewards, metrics, epoch_lengths, window_sizes, y_true, y_scores, avg_window=10)\n",
    "    rewards_dict[i] = rewards\n",
    "plot_reward_comparison(rewards_dict, avg_window=10)"
   ]
  },
  {
   "cell_type": "code",
   "execution_count": null,
   "metadata": {},
   "outputs": [],
   "source": [
    "rewards_dict = {}\n",
    "for i in ['dqn','cnn','ann_lstm','cnn_lstm']:\n",
    "    env = SBOS_Environment(window_size=20)\n",
    "    rewards, metrics, epoch_lengths, window_sizes, y_true, y_scores = train_dqn(env,model_type=i)\n",
    "    plot_metrics(rewards, metrics, epoch_lengths, window_sizes, y_true, y_scores, avg_window=10)\n",
    "    rewards_dict[i] = rewards\n",
    "plot_reward_comparison(rewards_dict, avg_window=10)"
   ]
  }
 ],
 "metadata": {
  "kernelspec": {
   "display_name": "venv",
   "language": "python",
   "name": "python3"
  },
  "language_info": {
   "codemirror_mode": {
    "name": "ipython",
    "version": 3
   },
   "file_extension": ".py",
   "mimetype": "text/x-python",
   "name": "python",
   "nbconvert_exporter": "python",
   "pygments_lexer": "ipython3",
   "version": "3.10.12"
  }
 },
 "nbformat": 4,
 "nbformat_minor": 2
}
