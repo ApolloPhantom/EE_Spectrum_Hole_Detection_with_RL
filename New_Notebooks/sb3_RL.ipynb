{
 "cells": [
  {
   "cell_type": "code",
   "execution_count": 1,
   "id": "aa7a5a1e",
   "metadata": {},
   "outputs": [],
   "source": [
    "import numpy as np\n",
    "import torch\n",
    "import torch.nn as nn\n",
    "import torch.optim as optim\n",
    "import torch.nn.functional as F\n",
    "import random\n",
    "from collections import deque, namedtuple\n",
    "import matplotlib.pyplot as plt\n",
    "from tqdm import tqdm\n",
    "from scipy.stats import entropy  # Add import for entropy function\n",
    "from environments_sb3 import SBEOS_Environment"
   ]
  },
  {
   "cell_type": "code",
   "execution_count": 2,
   "id": "01e00100",
   "metadata": {},
   "outputs": [],
   "source": [
    "import gym \n",
    "import seaborn as sns\n",
    "from sklearn.metrics import accuracy_score, confusion_matrix\n",
    "from stable_baselines3 import PPO\n",
    "from stable_baselines3.common.vec_env import DummyVecEnv\n",
    "from stable_baselines3.common.monitor import Monitor\n",
    "from stable_baselines3.common.callbacks import BaseCallback\n",
    "from stable_baselines3.common.env_util import make_vec_env\n",
    "from stable_baselines3.common.utils import set_random_seed\n",
    "from stable_baselines3.common.logger import configure\n",
    "from stable_baselines3.common.evaluation import evaluate_policy\n",
    "#from stable_baselines3.ppo import MlpLstmPolicy\n",
    "from sb3_contrib import RecurrentPPO\n",
    "from sb3_contrib.ppo_recurrent.policies import MlpLstmPolicy\n",
    "\n"
   ]
  },
  {
   "cell_type": "code",
   "execution_count": 3,
   "id": "154619aa",
   "metadata": {},
   "outputs": [],
   "source": [
    "# class RewardAccuracyLogger(BaseCallback):\n",
    "#     def __init__(self, eval_env, eval_freq=1000, verbose=0):\n",
    "#         super().__init__(verbose)\n",
    "#         self.eval_env = eval_env\n",
    "#         self.eval_freq = eval_freq\n",
    "#         self.rewards = []\n",
    "#         self.accuracies = []\n",
    "#         self.losses = []\n",
    "#         self.cm_list = []\n",
    "\n",
    "#     def _on_step(self):\n",
    "#         if self.n_calls % self.eval_freq == 0:\n",
    "#             obs, _ = self.eval_env.reset()\n",
    "#             done = False\n",
    "#             states = None\n",
    "#             ep_rewards = []\n",
    "#             y_true = []\n",
    "#             y_pred = []\n",
    "\n",
    "#             while not done:\n",
    "#                 action, states = self.model.predict(obs, state=states, deterministic=True)\n",
    "#                 obs, reward, done, _, info = self.eval_env.step(action)\n",
    "#                 ep_rewards.append(reward)\n",
    "#                 y_true.append(info[\"state\"])\n",
    "#                 y_pred.append(int(action))\n",
    "            \n",
    "#             acc = accuracy_score(y_true, y_pred)\n",
    "#             cm = confusion_matrix(y_true, y_pred, labels=[0, 1])\n",
    "\n",
    "#             self.rewards.append(np.sum(ep_rewards))\n",
    "#             self.accuracies.append(acc)\n",
    "#             self.cm_list.append(cm)\n",
    "\n",
    "#         return True\n",
    "from stable_baselines3.common.callbacks import BaseCallback\n",
    "from sklearn.metrics import accuracy_score, confusion_matrix\n",
    "import numpy as np\n",
    "\n",
    "class RewardAccuracyLogger(BaseCallback):\n",
    "    def __init__(self, eval_env, eval_freq=1000, verbose=1):\n",
    "        super().__init__(verbose)\n",
    "        self.eval_env = eval_env\n",
    "        self.eval_freq = eval_freq\n",
    "        self.episode_rewards = []\n",
    "        self.accuracies = []\n",
    "        self.confusion_matrices = []\n",
    "\n",
    "    def _on_step(self):\n",
    "        if self.n_calls % self.eval_freq == 0:\n",
    "            obs, _ = self.eval_env.reset()\n",
    "            done, state = False, None\n",
    "            lstm_state = None\n",
    "            episode_starts = True\n",
    "            preds, labels = [], []\n",
    "            total_reward = 0\n",
    "\n",
    "            for _ in range(self.eval_env.max_timesteps):\n",
    "                action, lstm_state = self.model.predict(\n",
    "                    obs,\n",
    "                    state=lstm_state,\n",
    "                    episode_start=np.array([episode_starts]),\n",
    "                    deterministic=True\n",
    "                )\n",
    "                obs, reward, terminated, truncated, info = self.eval_env.step(action)\n",
    "                done = terminated or truncated\n",
    "                total_reward += reward\n",
    "                preds.append(int(action))\n",
    "                labels.append(info[\"state\"])\n",
    "                episode_starts = done\n",
    "                if done:\n",
    "                    break\n",
    "\n",
    "            acc = accuracy_score(labels, preds)\n",
    "            cm = confusion_matrix(labels, preds, labels=[0, 1])\n",
    "\n",
    "            self.episode_rewards.append(total_reward)\n",
    "            self.accuracies.append(acc)\n",
    "            self.confusion_matrices.append(cm)\n",
    "\n",
    "            if self.verbose:\n",
    "                print(f\"Eval Reward: {total_reward}, Accuracy: {acc}\")\n",
    "        return True\n"
   ]
  },
  {
   "cell_type": "code",
   "execution_count": 4,
   "id": "1abd23d9",
   "metadata": {},
   "outputs": [],
   "source": [
    "from stable_baselines3.common.vec_env import DummyVecEnv\n",
    "from stable_baselines3.common.monitor import Monitor\n",
    "from sb3_contrib import RecurrentPPO\n",
    "from sb3_contrib.ppo_recurrent.policies import RecurrentActorCriticPolicy\n",
    "\n",
    "# def train():\n",
    "#     env = DummyVecEnv([lambda: Monitor(SBEOS_Environment())])\n",
    "#     eval_env = SBEOS_Environment(max_timesteps=200)\n",
    "\n",
    "#     # model = PPO(\n",
    "#     #     policy=MlpLstmPolicy,\n",
    "#     #     env=env,\n",
    "#     #     verbose=1,\n",
    "#     #     tensorboard_log=\"./ppo_sbeos_tensorboard/\",\n",
    "#     #     n_steps=128,\n",
    "#     #     batch_size=64,\n",
    "#     #     n_epochs=4,\n",
    "#     #     learning_rate=2.5e-4,\n",
    "#     #     gamma=0.99,\n",
    "#     #     gae_lambda=0.95,\n",
    "#     #     clip_range=0.2,\n",
    "#     #     ent_coef=0.01,\n",
    "#     #     device='cuda' if torch.cuda.is_available() else 'cpu',\n",
    "#     # )\n",
    "#     model = RecurrentPPO(\n",
    "#     policy=RecurrentActorCriticPolicy,\n",
    "#     env=env,\n",
    "#     verbose=1,\n",
    "#     n_steps=128,\n",
    "#     batch_size=64,\n",
    "#     gae_lambda=0.95,\n",
    "#     gamma=0.99,\n",
    "#     n_epochs=4,\n",
    "#     ent_coef=0.01,\n",
    "#     learning_rate=3e-4,\n",
    "#     clip_range=0.2,\n",
    "#     device='cuda' if torch.cuda.is_available() else 'cpu'\n",
    "# )\n",
    "\n",
    "#     logger = RewardAccuracyLogger(eval_env=eval_env, eval_freq=1000)\n",
    "#     model.learn(total_timesteps=100_000, callback=logger)\n",
    "\n",
    "#     model.save(\"ppo_sbeos_lstm_model\")\n",
    "\n",
    "#     return logger\n",
    "\n",
    "# def plot_metrics(logger):\n",
    "#     fig, axs = plt.subplots(2, 2, figsize=(14, 10))\n",
    "\n",
    "#     axs[0, 0].plot(logger.rewards)\n",
    "#     axs[0, 0].set_title(\"Episode Rewards\")\n",
    "#     axs[0, 0].set_xlabel(\"Evaluation Steps\")\n",
    "#     axs[0, 0].set_ylabel(\"Reward\")\n",
    "\n",
    "#     axs[0, 1].plot(logger.accuracies)\n",
    "#     axs[0, 1].set_title(\"Accuracy\")\n",
    "#     axs[0, 1].set_xlabel(\"Evaluation Steps\")\n",
    "#     axs[0, 1].set_ylabel(\"Accuracy\")\n",
    "\n",
    "#     avg_cm = np.mean(logger.cm_list, axis=0)\n",
    "#     sns.heatmap(avg_cm, annot=True, fmt='d', ax=axs[1, 0], cmap=\"Blues\")\n",
    "#     axs[1, 0].set_title(\"Avg Confusion Matrix\")\n",
    "#     axs[1, 0].set_xlabel(\"Predicted\")\n",
    "#     axs[1, 0].set_ylabel(\"Actual\")\n",
    "\n",
    "#     axs[1, 1].axis('off')\n",
    "\n",
    "#     plt.tight_layout()\n",
    "#     plt.show()\n",
    "\n",
    "# def test_model():\n",
    "#     model = PPO.load(\"ppo_sbeos_lstm_model\", device=\"cuda\" if torch.cuda.is_available() else \"cpu\")\n",
    "#     env = SBEOS_Environment(max_timesteps=200)\n",
    "#     obs, _ = env.reset()\n",
    "#     done = False\n",
    "#     rewards = []\n",
    "#     y_true = []\n",
    "#     y_pred = []\n",
    "#     states = None\n",
    "\n",
    "#     while not done:\n",
    "#         action, states = model.predict(obs, state=states, deterministic=True)\n",
    "#         obs, reward, done, _, info = env.step(action)\n",
    "#         rewards.append(reward)\n",
    "#         y_true.append(info[\"state\"])\n",
    "#         y_pred.append(int(action))\n",
    "\n",
    "#     acc = accuracy_score(y_true, y_pred)\n",
    "#     cm = confusion_matrix(y_true, y_pred, labels=[0, 1])\n",
    "\n",
    "#     print(f\"Test Accuracy: {acc:.4f}\")\n",
    "#     print(\"Test Confusion Matrix:\")\n",
    "#     print(cm)\n",
    "\n",
    "#     sns.heatmap(cm, annot=True, fmt='d', cmap=\"Greens\")\n",
    "#     plt.title(\"Confusion Matrix (Test)\")\n",
    "#     plt.xlabel(\"Predicted\")\n",
    "#     plt.ylabel(\"Actual\")\n",
    "#     plt.show()\n",
    "def train():\n",
    "    env = DummyVecEnv([lambda: Monitor(SBEOS_Environment(max_timesteps=200,window_size=20))])\n",
    "    eval_env = SBEOS_Environment(max_timesteps=200,window_size=20)\n",
    "\n",
    "    model = RecurrentPPO(\n",
    "    policy=RecurrentActorCriticPolicy,\n",
    "    env=env,\n",
    "    verbose=1,\n",
    "    n_steps=256,                 # Sequence length for rollouts\n",
    "    batch_size=128,             # Effective batch size for update\n",
    "    gae_lambda=0.95,            # GAE lambda\n",
    "    gamma=0.99,                 # Discount factor\n",
    "    n_epochs=10,                # Update epochs\n",
    "    ent_coef=0.005,             # Exploration weight\n",
    "    learning_rate=2.5e-4,       # Learning rate\n",
    "    clip_range=0.15,            # PPO clipping\n",
    "    max_grad_norm=0.5,          # Gradient clipping\n",
    "    vf_coef=0.5,                # Value loss coefficient\n",
    "    policy_kwargs=dict(\n",
    "        lstm_hidden_size=128,   # LSTM hidden layer size\n",
    "        shared_lstm=False,       # Share LSTM across actor and critic\n",
    "        ortho_init=True,\n",
    "        enable_critic_lstm=True,# Orthogonal weight initialization\n",
    "    ),\n",
    "    device='cuda' if torch.cuda.is_available() else 'cpu'\n",
    ")\n",
    "\n",
    "    logger = RewardAccuracyLogger(eval_env=eval_env, eval_freq=1000)\n",
    "    model.learn(\n",
    "    total_timesteps=20_000,     # Better convergence\n",
    "    callback=logger,\n",
    "    log_interval=10,\n",
    "    progress_bar=True\n",
    ")\n",
    "    model.save(\"recurrent_ppo_sbeos_model\")\n",
    "    return logger\n",
    "\n",
    "import matplotlib.pyplot as plt\n",
    "\n",
    "def plot_metrics(logger):\n",
    "    plt.figure(figsize=(16, 5))\n",
    "\n",
    "    plt.subplot(1, 2, 1)\n",
    "    plt.plot(logger.episode_rewards)\n",
    "    plt.title(\"Episode Rewards\")\n",
    "    plt.xlabel(\"Evaluation Step\")\n",
    "    plt.ylabel(\"Reward\")\n",
    "\n",
    "    plt.subplot(1, 2, 2)\n",
    "    plt.plot(logger.accuracies)\n",
    "    plt.title(\"Accuracy\")\n",
    "    plt.xlabel(\"Evaluation Step\")\n",
    "    plt.ylabel(\"Accuracy\")\n",
    "\n",
    "    plt.show()\n",
    "\n",
    "    # Confusion matrix (last one)\n",
    "    if logger.confusion_matrices:\n",
    "        import seaborn as sns\n",
    "        import numpy as np\n",
    "        cm = logger.confusion_matrices[-1]\n",
    "        sns.heatmap(cm, annot=True, fmt='d', cmap='Blues')\n",
    "        plt.title(\"Confusion Matrix (Last Evaluation)\")\n",
    "        plt.xlabel(\"Predicted\")\n",
    "        plt.ylabel(\"True\")\n",
    "        plt.show()\n",
    "def test_model():\n",
    "    model = RecurrentPPO.load(\"recurrent_ppo_sbeos_model\")\n",
    "    env = SBEOS_Environment()\n",
    "    obs, _ = env.reset()\n",
    "    done, state = False, None\n",
    "    lstm_state = None\n",
    "    episode_starts = True\n",
    "\n",
    "    total_reward = 0\n",
    "    preds, labels,noisy = [], [], []\n",
    "\n",
    "    while not done:\n",
    "        action, lstm_state = model.predict(\n",
    "            obs,\n",
    "            state=lstm_state,\n",
    "            episode_start=np.array([episode_starts]),\n",
    "            deterministic=True\n",
    "        )\n",
    "        obs, reward, terminated, truncated, info = env.step(action)\n",
    "        done = terminated or truncated\n",
    "        total_reward += reward\n",
    "        preds.append(int(action))\n",
    "        labels.append(info[\"state\"])\n",
    "        noisy.append(info[\"noisy\"])\n",
    "        \n",
    "        episode_starts = done\n",
    "    print(labels)\n",
    "    print(preds)\n",
    "    acc = accuracy_score(labels, preds)\n",
    "    cm = confusion_matrix(labels, preds)\n",
    "\n",
    "    print(f\"Test Reward: {total_reward}, Accuracy: {acc}\")\n",
    "    print(\"Confusion Matrix:\\n\", cm)\n"
   ]
  },
  {
   "cell_type": "code",
   "execution_count": 5,
   "id": "dded27f4",
   "metadata": {},
   "outputs": [
    {
     "name": "stdout",
     "output_type": "stream",
     "text": [
      "Using cuda device\n"
     ]
    },
    {
     "data": {
      "application/vnd.jupyter.widget-view+json": {
       "model_id": "b060e5a7b47243a5beb84d1b91f5710e",
       "version_major": 2,
       "version_minor": 0
      },
      "text/plain": [
       "Output()"
      ]
     },
     "metadata": {},
     "output_type": "display_data"
    },
    {
     "data": {
      "text/html": [
       "<pre style=\"white-space:pre;overflow-x:auto;line-height:normal;font-family:Menlo,'DejaVu Sans Mono',consolas,'Courier New',monospace\">Eval Reward: 566.6, Accuracy: 0.53\n",
       "</pre>\n"
      ],
      "text/plain": [
       "Eval Reward: 566.6, Accuracy: 0.53\n"
      ]
     },
     "metadata": {},
     "output_type": "display_data"
    },
    {
     "data": {
      "text/html": [
       "<pre style=\"white-space:pre;overflow-x:auto;line-height:normal;font-family:Menlo,'DejaVu Sans Mono',consolas,'Courier New',monospace\">Eval Reward: 976.1000000000001, Accuracy: 0.485\n",
       "</pre>\n"
      ],
      "text/plain": [
       "Eval Reward: 976.1000000000001, Accuracy: 0.485\n"
      ]
     },
     "metadata": {},
     "output_type": "display_data"
    },
    {
     "name": "stdout",
     "output_type": "stream",
     "text": [
      "------------------------------------------\n",
      "| rollout/                |              |\n",
      "|    ep_len_mean          | 200          |\n",
      "|    ep_rew_mean          | 76.1         |\n",
      "| time/                   |              |\n",
      "|    fps                  | 57           |\n",
      "|    iterations           | 10           |\n",
      "|    time_elapsed         | 44           |\n",
      "|    total_timesteps      | 2560         |\n",
      "| train/                  |              |\n",
      "|    approx_kl            | 0.0010047437 |\n",
      "|    clip_fraction        | 0            |\n",
      "|    clip_range           | 0.15         |\n",
      "|    entropy_loss         | -0.62        |\n",
      "|    explained_variance   | 0.0119       |\n",
      "|    learning_rate        | 0.00025      |\n",
      "|    loss                 | 1.26e+03     |\n",
      "|    n_updates            | 90           |\n",
      "|    policy_gradient_loss | -0.00102     |\n",
      "|    value_loss           | 1.72e+03     |\n",
      "------------------------------------------\n"
     ]
    },
    {
     "data": {
      "text/html": [
       "<pre style=\"white-space:pre;overflow-x:auto;line-height:normal;font-family:Menlo,'DejaVu Sans Mono',consolas,'Courier New',monospace\">Eval Reward: 902.7999999999997, Accuracy: 0.575\n",
       "</pre>\n"
      ],
      "text/plain": [
       "Eval Reward: 902.7999999999997, Accuracy: 0.575\n"
      ]
     },
     "metadata": {},
     "output_type": "display_data"
    },
    {
     "data": {
      "text/html": [
       "<pre style=\"white-space:pre;overflow-x:auto;line-height:normal;font-family:Menlo,'DejaVu Sans Mono',consolas,'Courier New',monospace\">Eval Reward: 122.79999999999998, Accuracy: 0.52\n",
       "</pre>\n"
      ],
      "text/plain": [
       "Eval Reward: 122.79999999999998, Accuracy: 0.52\n"
      ]
     },
     "metadata": {},
     "output_type": "display_data"
    },
    {
     "data": {
      "text/html": [
       "<pre style=\"white-space:pre;overflow-x:auto;line-height:normal;font-family:Menlo,'DejaVu Sans Mono',consolas,'Courier New',monospace\">Eval Reward: 886.6999999999999, Accuracy: 0.51\n",
       "</pre>\n"
      ],
      "text/plain": [
       "Eval Reward: 886.6999999999999, Accuracy: 0.51\n"
      ]
     },
     "metadata": {},
     "output_type": "display_data"
    },
    {
     "name": "stdout",
     "output_type": "stream",
     "text": [
      "-------------------------------------------\n",
      "| rollout/                |               |\n",
      "|    ep_len_mean          | 200           |\n",
      "|    ep_rew_mean          | 175           |\n",
      "| time/                   |               |\n",
      "|    fps                  | 55            |\n",
      "|    iterations           | 20            |\n",
      "|    time_elapsed         | 91            |\n",
      "|    total_timesteps      | 5120          |\n",
      "| train/                  |               |\n",
      "|    approx_kl            | 0.00021996384 |\n",
      "|    clip_fraction        | 0             |\n",
      "|    clip_range           | 0.15          |\n",
      "|    entropy_loss         | -0.478        |\n",
      "|    explained_variance   | -0.00111      |\n",
      "|    learning_rate        | 0.00025       |\n",
      "|    loss                 | 2.71e+03      |\n",
      "|    n_updates            | 190           |\n",
      "|    policy_gradient_loss | -0.000305     |\n",
      "|    value_loss           | 3.98e+03      |\n",
      "-------------------------------------------\n"
     ]
    },
    {
     "data": {
      "text/html": [
       "<pre style=\"white-space:pre;overflow-x:auto;line-height:normal;font-family:Menlo,'DejaVu Sans Mono',consolas,'Courier New',monospace\">Eval Reward: 392.1000000000001, Accuracy: 0.49\n",
       "</pre>\n"
      ],
      "text/plain": [
       "Eval Reward: 392.1000000000001, Accuracy: 0.49\n"
      ]
     },
     "metadata": {},
     "output_type": "display_data"
    },
    {
     "data": {
      "text/html": [
       "<pre style=\"white-space:pre;overflow-x:auto;line-height:normal;font-family:Menlo,'DejaVu Sans Mono',consolas,'Courier New',monospace\">Eval Reward: 1277.3, Accuracy: 0.6\n",
       "</pre>\n"
      ],
      "text/plain": [
       "Eval Reward: 1277.3, Accuracy: 0.6\n"
      ]
     },
     "metadata": {},
     "output_type": "display_data"
    },
    {
     "name": "stdout",
     "output_type": "stream",
     "text": [
      "-------------------------------------------\n",
      "| rollout/                |               |\n",
      "|    ep_len_mean          | 200           |\n",
      "|    ep_rew_mean          | 300           |\n",
      "| time/                   |               |\n",
      "|    fps                  | 54            |\n",
      "|    iterations           | 30            |\n",
      "|    time_elapsed         | 141           |\n",
      "|    total_timesteps      | 7680          |\n",
      "| train/                  |               |\n",
      "|    approx_kl            | 0.00039695913 |\n",
      "|    clip_fraction        | 0             |\n",
      "|    clip_range           | 0.15          |\n",
      "|    entropy_loss         | -0.258        |\n",
      "|    explained_variance   | -0.000953     |\n",
      "|    learning_rate        | 0.00025       |\n",
      "|    loss                 | 1.29e+03      |\n",
      "|    n_updates            | 290           |\n",
      "|    policy_gradient_loss | -0.000971     |\n",
      "|    value_loss           | 4.66e+03      |\n",
      "-------------------------------------------\n"
     ]
    },
    {
     "data": {
      "text/html": [
       "<pre style=\"white-space:pre;overflow-x:auto;line-height:normal;font-family:Menlo,'DejaVu Sans Mono',consolas,'Courier New',monospace\">Eval Reward: 353.9000000000001, Accuracy: 0.475\n",
       "</pre>\n"
      ],
      "text/plain": [
       "Eval Reward: 353.9000000000001, Accuracy: 0.475\n"
      ]
     },
     "metadata": {},
     "output_type": "display_data"
    },
    {
     "data": {
      "text/html": [
       "<pre style=\"white-space:pre;overflow-x:auto;line-height:normal;font-family:Menlo,'DejaVu Sans Mono',consolas,'Courier New',monospace\">Eval Reward: 980.8999999999997, Accuracy: 0.49\n",
       "</pre>\n"
      ],
      "text/plain": [
       "Eval Reward: 980.8999999999997, Accuracy: 0.49\n"
      ]
     },
     "metadata": {},
     "output_type": "display_data"
    },
    {
     "data": {
      "text/html": [
       "<pre style=\"white-space:pre;overflow-x:auto;line-height:normal;font-family:Menlo,'DejaVu Sans Mono',consolas,'Courier New',monospace\">Eval Reward: 921.4000000000001, Accuracy: 0.505\n",
       "</pre>\n"
      ],
      "text/plain": [
       "Eval Reward: 921.4000000000001, Accuracy: 0.505\n"
      ]
     },
     "metadata": {},
     "output_type": "display_data"
    },
    {
     "name": "stdout",
     "output_type": "stream",
     "text": [
      "-------------------------------------------\n",
      "| rollout/                |               |\n",
      "|    ep_len_mean          | 200           |\n",
      "|    ep_rew_mean          | 331           |\n",
      "| time/                   |               |\n",
      "|    fps                  | 53            |\n",
      "|    iterations           | 40            |\n",
      "|    time_elapsed         | 189           |\n",
      "|    total_timesteps      | 10240         |\n",
      "| train/                  |               |\n",
      "|    approx_kl            | 1.8762774e-05 |\n",
      "|    clip_fraction        | 0             |\n",
      "|    clip_range           | 0.15          |\n",
      "|    entropy_loss         | -0.189        |\n",
      "|    explained_variance   | -0.000388     |\n",
      "|    learning_rate        | 0.00025       |\n",
      "|    loss                 | 1.58e+03      |\n",
      "|    n_updates            | 390           |\n",
      "|    policy_gradient_loss | 5.96e-05      |\n",
      "|    value_loss           | 4.58e+03      |\n",
      "-------------------------------------------\n"
     ]
    },
    {
     "data": {
      "text/html": [
       "<pre style=\"white-space:pre;overflow-x:auto;line-height:normal;font-family:Menlo,'DejaVu Sans Mono',consolas,'Courier New',monospace\">Eval Reward: 908.1, Accuracy: 0.475\n",
       "</pre>\n"
      ],
      "text/plain": [
       "Eval Reward: 908.1, Accuracy: 0.475\n"
      ]
     },
     "metadata": {},
     "output_type": "display_data"
    },
    {
     "data": {
      "text/html": [
       "<pre style=\"white-space:pre;overflow-x:auto;line-height:normal;font-family:Menlo,'DejaVu Sans Mono',consolas,'Courier New',monospace\">Eval Reward: -135.39999999999998, Accuracy: 0.53\n",
       "</pre>\n"
      ],
      "text/plain": [
       "Eval Reward: -135.39999999999998, Accuracy: 0.53\n"
      ]
     },
     "metadata": {},
     "output_type": "display_data"
    },
    {
     "name": "stdout",
     "output_type": "stream",
     "text": [
      "-------------------------------------------\n",
      "| rollout/                |               |\n",
      "|    ep_len_mean          | 200           |\n",
      "|    ep_rew_mean          | 325           |\n",
      "| time/                   |               |\n",
      "|    fps                  | 53            |\n",
      "|    iterations           | 50            |\n",
      "|    time_elapsed         | 239           |\n",
      "|    total_timesteps      | 12800         |\n",
      "| train/                  |               |\n",
      "|    approx_kl            | 0.00089805154 |\n",
      "|    clip_fraction        | 0.00742       |\n",
      "|    clip_range           | 0.15          |\n",
      "|    entropy_loss         | -0.166        |\n",
      "|    explained_variance   | -0.00116      |\n",
      "|    learning_rate        | 0.00025       |\n",
      "|    loss                 | 310           |\n",
      "|    n_updates            | 490           |\n",
      "|    policy_gradient_loss | -0.00149      |\n",
      "|    value_loss           | 1.67e+03      |\n",
      "-------------------------------------------\n"
     ]
    },
    {
     "data": {
      "text/html": [
       "<pre style=\"white-space:pre;overflow-x:auto;line-height:normal;font-family:Menlo,'DejaVu Sans Mono',consolas,'Courier New',monospace\">Eval Reward: 733.4000000000001, Accuracy: 0.45\n",
       "</pre>\n"
      ],
      "text/plain": [
       "Eval Reward: 733.4000000000001, Accuracy: 0.45\n"
      ]
     },
     "metadata": {},
     "output_type": "display_data"
    },
    {
     "data": {
      "text/html": [
       "<pre style=\"white-space:pre;overflow-x:auto;line-height:normal;font-family:Menlo,'DejaVu Sans Mono',consolas,'Courier New',monospace\">Eval Reward: 587.4000000000001, Accuracy: 0.44\n",
       "</pre>\n"
      ],
      "text/plain": [
       "Eval Reward: 587.4000000000001, Accuracy: 0.44\n"
      ]
     },
     "metadata": {},
     "output_type": "display_data"
    },
    {
     "data": {
      "text/html": [
       "<pre style=\"white-space:pre;overflow-x:auto;line-height:normal;font-family:Menlo,'DejaVu Sans Mono',consolas,'Courier New',monospace\">Eval Reward: 244.10000000000008, Accuracy: 0.625\n",
       "</pre>\n"
      ],
      "text/plain": [
       "Eval Reward: 244.10000000000008, Accuracy: 0.625\n"
      ]
     },
     "metadata": {},
     "output_type": "display_data"
    },
    {
     "name": "stdout",
     "output_type": "stream",
     "text": [
      "-------------------------------------------\n",
      "| rollout/                |               |\n",
      "|    ep_len_mean          | 200           |\n",
      "|    ep_rew_mean          | 359           |\n",
      "| time/                   |               |\n",
      "|    fps                  | 52            |\n",
      "|    iterations           | 60            |\n",
      "|    time_elapsed         | 291           |\n",
      "|    total_timesteps      | 15360         |\n",
      "| train/                  |               |\n",
      "|    approx_kl            | 1.2635486e-05 |\n",
      "|    clip_fraction        | 0             |\n",
      "|    clip_range           | 0.15          |\n",
      "|    entropy_loss         | -0.0981       |\n",
      "|    explained_variance   | -0.000221     |\n",
      "|    learning_rate        | 0.00025       |\n",
      "|    loss                 | 597           |\n",
      "|    n_updates            | 590           |\n",
      "|    policy_gradient_loss | 2.37e-05      |\n",
      "|    value_loss           | 3.06e+03      |\n",
      "-------------------------------------------\n"
     ]
    },
    {
     "data": {
      "text/html": [
       "<pre style=\"white-space:pre;overflow-x:auto;line-height:normal;font-family:Menlo,'DejaVu Sans Mono',consolas,'Courier New',monospace\">Eval Reward: 232.1, Accuracy: 0.595\n",
       "</pre>\n"
      ],
      "text/plain": [
       "Eval Reward: 232.1, Accuracy: 0.595\n"
      ]
     },
     "metadata": {},
     "output_type": "display_data"
    },
    {
     "data": {
      "text/html": [
       "<pre style=\"white-space:pre;overflow-x:auto;line-height:normal;font-family:Menlo,'DejaVu Sans Mono',consolas,'Courier New',monospace\">Eval Reward: 796.7, Accuracy: 0.595\n",
       "</pre>\n"
      ],
      "text/plain": [
       "Eval Reward: 796.7, Accuracy: 0.595\n"
      ]
     },
     "metadata": {},
     "output_type": "display_data"
    },
    {
     "name": "stdout",
     "output_type": "stream",
     "text": [
      "-------------------------------------------\n",
      "| rollout/                |               |\n",
      "|    ep_len_mean          | 200           |\n",
      "|    ep_rew_mean          | 375           |\n",
      "| time/                   |               |\n",
      "|    fps                  | 52            |\n",
      "|    iterations           | 70            |\n",
      "|    time_elapsed         | 341           |\n",
      "|    total_timesteps      | 17920         |\n",
      "| train/                  |               |\n",
      "|    approx_kl            | 6.8095746e-05 |\n",
      "|    clip_fraction        | 0             |\n",
      "|    clip_range           | 0.15          |\n",
      "|    entropy_loss         | -0.114        |\n",
      "|    explained_variance   | -8.13e-05     |\n",
      "|    learning_rate        | 0.00025       |\n",
      "|    loss                 | 2.04e+03      |\n",
      "|    n_updates            | 690           |\n",
      "|    policy_gradient_loss | -7.15e-05     |\n",
      "|    value_loss           | 3.62e+03      |\n",
      "-------------------------------------------\n"
     ]
    },
    {
     "data": {
      "text/html": [
       "<pre style=\"white-space:pre;overflow-x:auto;line-height:normal;font-family:Menlo,'DejaVu Sans Mono',consolas,'Courier New',monospace\">Eval Reward: 547.7999999999998, Accuracy: 0.585\n",
       "</pre>\n"
      ],
      "text/plain": [
       "Eval Reward: 547.7999999999998, Accuracy: 0.585\n"
      ]
     },
     "metadata": {},
     "output_type": "display_data"
    },
    {
     "data": {
      "text/html": [
       "<pre style=\"white-space:pre;overflow-x:auto;line-height:normal;font-family:Menlo,'DejaVu Sans Mono',consolas,'Courier New',monospace\">Eval Reward: 968.3000000000001, Accuracy: 0.575\n",
       "</pre>\n"
      ],
      "text/plain": [
       "Eval Reward: 968.3000000000001, Accuracy: 0.575\n"
      ]
     },
     "metadata": {},
     "output_type": "display_data"
    },
    {
     "data": {
      "text/html": [
       "<pre style=\"white-space:pre;overflow-x:auto;line-height:normal;font-family:Menlo,'DejaVu Sans Mono',consolas,'Courier New',monospace\">Eval Reward: 298.40000000000015, Accuracy: 0.305\n",
       "</pre>\n"
      ],
      "text/plain": [
       "Eval Reward: 298.40000000000015, Accuracy: 0.305\n"
      ]
     },
     "metadata": {},
     "output_type": "display_data"
    },
    {
     "data": {
      "text/html": [
       "<pre style=\"white-space:pre;overflow-x:auto;line-height:normal;font-family:Menlo,'DejaVu Sans Mono',consolas,'Courier New',monospace\"></pre>\n"
      ],
      "text/plain": []
     },
     "metadata": {},
     "output_type": "display_data"
    },
    {
     "data": {
      "image/png": "[encoded data removed]",
      "text/plain": [
       "<Figure size 1600x500 with 2 Axes>"
      ]
     },
     "metadata": {},
     "output_type": "display_data"
    },
    {
     "data": {
      "image/png": "[encoded data removed]",
      "text/plain": [
       "<Figure size 640x480 with 2 Axes>"
      ]
     },
     "metadata": {},
     "output_type": "display_data"
    },
    {
     "ename": "ValueError",
     "evalue": "Error: Unexpected observation shape (16,) for Box environment, please use (26,) or (n_env, 26) for the observation shape.",
     "output_type": "error",
     "traceback": [
      "\u001b[1;31m---------------------------------------------------------------------------\u001b[0m",
      "\u001b[1;31mValueError\u001b[0m                                Traceback (most recent call last)",
      "Cell \u001b[1;32mIn[5], line 3\u001b[0m\n\u001b[0;32m      1\u001b[0m logger \u001b[38;5;241m=\u001b[39m train()\n\u001b[0;32m      2\u001b[0m plot_metrics(logger)\n\u001b[1;32m----> 3\u001b[0m \u001b[43mtest_model\u001b[49m\u001b[43m(\u001b[49m\u001b[43m)\u001b[49m\n",
      "Cell \u001b[1;32mIn[4], line 178\u001b[0m, in \u001b[0;36mtest_model\u001b[1;34m()\u001b[0m\n\u001b[0;32m    175\u001b[0m preds, labels,noisy \u001b[38;5;241m=\u001b[39m [], [], []\n\u001b[0;32m    177\u001b[0m \u001b[38;5;28;01mwhile\u001b[39;00m \u001b[38;5;129;01mnot\u001b[39;00m done:\n\u001b[1;32m--> 178\u001b[0m     action, lstm_state \u001b[38;5;241m=\u001b[39m \u001b[43mmodel\u001b[49m\u001b[38;5;241;43m.\u001b[39;49m\u001b[43mpredict\u001b[49m\u001b[43m(\u001b[49m\n\u001b[0;32m    179\u001b[0m \u001b[43m        \u001b[49m\u001b[43mobs\u001b[49m\u001b[43m,\u001b[49m\n\u001b[0;32m    180\u001b[0m \u001b[43m        \u001b[49m\u001b[43mstate\u001b[49m\u001b[38;5;241;43m=\u001b[39;49m\u001b[43mlstm_state\u001b[49m\u001b[43m,\u001b[49m\n\u001b[0;32m    181\u001b[0m \u001b[43m        \u001b[49m\u001b[43mepisode_start\u001b[49m\u001b[38;5;241;43m=\u001b[39;49m\u001b[43mnp\u001b[49m\u001b[38;5;241;43m.\u001b[39;49m\u001b[43marray\u001b[49m\u001b[43m(\u001b[49m\u001b[43m[\u001b[49m\u001b[43mepisode_starts\u001b[49m\u001b[43m]\u001b[49m\u001b[43m)\u001b[49m\u001b[43m,\u001b[49m\n\u001b[0;32m    182\u001b[0m \u001b[43m        \u001b[49m\u001b[43mdeterministic\u001b[49m\u001b[38;5;241;43m=\u001b[39;49m\u001b[38;5;28;43;01mTrue\u001b[39;49;00m\n\u001b[0;32m    183\u001b[0m \u001b[43m    \u001b[49m\u001b[43m)\u001b[49m\n\u001b[0;32m    184\u001b[0m     obs, reward, terminated, truncated, info \u001b[38;5;241m=\u001b[39m env\u001b[38;5;241m.\u001b[39mstep(action)\n\u001b[0;32m    185\u001b[0m     done \u001b[38;5;241m=\u001b[39m terminated \u001b[38;5;129;01mor\u001b[39;00m truncated\n",
      "File \u001b[1;32md:\\Projects\\venv\\lib\\site-packages\\stable_baselines3\\common\\base_class.py:557\u001b[0m, in \u001b[0;36mBaseAlgorithm.predict\u001b[1;34m(self, observation, state, episode_start, deterministic)\u001b[0m\n\u001b[0;32m    537\u001b[0m \u001b[38;5;28;01mdef\u001b[39;00m\u001b[38;5;250m \u001b[39m\u001b[38;5;21mpredict\u001b[39m(\n\u001b[0;32m    538\u001b[0m     \u001b[38;5;28mself\u001b[39m,\n\u001b[0;32m    539\u001b[0m     observation: Union[np\u001b[38;5;241m.\u001b[39mndarray, \u001b[38;5;28mdict\u001b[39m[\u001b[38;5;28mstr\u001b[39m, np\u001b[38;5;241m.\u001b[39mndarray]],\n\u001b[1;32m   (...)\u001b[0m\n\u001b[0;32m    542\u001b[0m     deterministic: \u001b[38;5;28mbool\u001b[39m \u001b[38;5;241m=\u001b[39m \u001b[38;5;28;01mFalse\u001b[39;00m,\n\u001b[0;32m    543\u001b[0m ) \u001b[38;5;241m-\u001b[39m\u001b[38;5;241m>\u001b[39m \u001b[38;5;28mtuple\u001b[39m[np\u001b[38;5;241m.\u001b[39mndarray, Optional[\u001b[38;5;28mtuple\u001b[39m[np\u001b[38;5;241m.\u001b[39mndarray, \u001b[38;5;241m.\u001b[39m\u001b[38;5;241m.\u001b[39m\u001b[38;5;241m.\u001b[39m]]]:\n\u001b[0;32m    544\u001b[0m \u001b[38;5;250m    \u001b[39m\u001b[38;5;124;03m\"\"\"\u001b[39;00m\n\u001b[0;32m    545\u001b[0m \u001b[38;5;124;03m    Get the policy action from an observation (and optional hidden state).\u001b[39;00m\n\u001b[0;32m    546\u001b[0m \u001b[38;5;124;03m    Includes sugar-coating to handle different observations (e.g. normalizing images).\u001b[39;00m\n\u001b[1;32m   (...)\u001b[0m\n\u001b[0;32m    555\u001b[0m \u001b[38;5;124;03m        (used in recurrent policies)\u001b[39;00m\n\u001b[0;32m    556\u001b[0m \u001b[38;5;124;03m    \"\"\"\u001b[39;00m\n\u001b[1;32m--> 557\u001b[0m     \u001b[38;5;28;01mreturn\u001b[39;00m \u001b[38;5;28;43mself\u001b[39;49m\u001b[38;5;241;43m.\u001b[39;49m\u001b[43mpolicy\u001b[49m\u001b[38;5;241;43m.\u001b[39;49m\u001b[43mpredict\u001b[49m\u001b[43m(\u001b[49m\u001b[43mobservation\u001b[49m\u001b[43m,\u001b[49m\u001b[43m \u001b[49m\u001b[43mstate\u001b[49m\u001b[43m,\u001b[49m\u001b[43m \u001b[49m\u001b[43mepisode_start\u001b[49m\u001b[43m,\u001b[49m\u001b[43m \u001b[49m\u001b[43mdeterministic\u001b[49m\u001b[43m)\u001b[49m\n",
      "File \u001b[1;32md:\\Projects\\venv\\lib\\site-packages\\sb3_contrib\\common\\recurrent\\policies.py:389\u001b[0m, in \u001b[0;36mRecurrentActorCriticPolicy.predict\u001b[1;34m(self, observation, state, episode_start, deterministic)\u001b[0m\n\u001b[0;32m    386\u001b[0m \u001b[38;5;66;03m# Switch to eval mode (this affects batch norm / dropout)\u001b[39;00m\n\u001b[0;32m    387\u001b[0m \u001b[38;5;28mself\u001b[39m\u001b[38;5;241m.\u001b[39mset_training_mode(\u001b[38;5;28;01mFalse\u001b[39;00m)\n\u001b[1;32m--> 389\u001b[0m observation, vectorized_env \u001b[38;5;241m=\u001b[39m \u001b[38;5;28;43mself\u001b[39;49m\u001b[38;5;241;43m.\u001b[39;49m\u001b[43mobs_to_tensor\u001b[49m\u001b[43m(\u001b[49m\u001b[43mobservation\u001b[49m\u001b[43m)\u001b[49m\n\u001b[0;32m    391\u001b[0m \u001b[38;5;28;01mif\u001b[39;00m \u001b[38;5;28misinstance\u001b[39m(observation, \u001b[38;5;28mdict\u001b[39m):\n\u001b[0;32m    392\u001b[0m     n_envs \u001b[38;5;241m=\u001b[39m observation[\u001b[38;5;28mnext\u001b[39m(\u001b[38;5;28miter\u001b[39m(observation\u001b[38;5;241m.\u001b[39mkeys()))]\u001b[38;5;241m.\u001b[39mshape[\u001b[38;5;241m0\u001b[39m]\n",
      "File \u001b[1;32md:\\Projects\\venv\\lib\\site-packages\\stable_baselines3\\common\\policies.py:272\u001b[0m, in \u001b[0;36mBaseModel.obs_to_tensor\u001b[1;34m(self, observation)\u001b[0m\n\u001b[0;32m    268\u001b[0m     observation \u001b[38;5;241m=\u001b[39m np\u001b[38;5;241m.\u001b[39marray(observation)\n\u001b[0;32m    270\u001b[0m \u001b[38;5;28;01mif\u001b[39;00m \u001b[38;5;129;01mnot\u001b[39;00m \u001b[38;5;28misinstance\u001b[39m(observation, \u001b[38;5;28mdict\u001b[39m):\n\u001b[0;32m    271\u001b[0m     \u001b[38;5;66;03m# Dict obs need to be handled separately\u001b[39;00m\n\u001b[1;32m--> 272\u001b[0m     vectorized_env \u001b[38;5;241m=\u001b[39m \u001b[43mis_vectorized_observation\u001b[49m\u001b[43m(\u001b[49m\u001b[43mobservation\u001b[49m\u001b[43m,\u001b[49m\u001b[43m \u001b[49m\u001b[38;5;28;43mself\u001b[39;49m\u001b[38;5;241;43m.\u001b[39;49m\u001b[43mobservation_space\u001b[49m\u001b[43m)\u001b[49m\n\u001b[0;32m    273\u001b[0m     \u001b[38;5;66;03m# Add batch dimension if needed\u001b[39;00m\n\u001b[0;32m    274\u001b[0m     observation \u001b[38;5;241m=\u001b[39m observation\u001b[38;5;241m.\u001b[39mreshape((\u001b[38;5;241m-\u001b[39m\u001b[38;5;241m1\u001b[39m, \u001b[38;5;241m*\u001b[39m\u001b[38;5;28mself\u001b[39m\u001b[38;5;241m.\u001b[39mobservation_space\u001b[38;5;241m.\u001b[39mshape))  \u001b[38;5;66;03m# type: ignore[misc]\u001b[39;00m\n",
      "File \u001b[1;32md:\\Projects\\venv\\lib\\site-packages\\stable_baselines3\\common\\utils.py:404\u001b[0m, in \u001b[0;36mis_vectorized_observation\u001b[1;34m(observation, observation_space)\u001b[0m\n\u001b[0;32m    402\u001b[0m \u001b[38;5;28;01mfor\u001b[39;00m space_type, is_vec_obs_func \u001b[38;5;129;01min\u001b[39;00m is_vec_obs_func_dict\u001b[38;5;241m.\u001b[39mitems():\n\u001b[0;32m    403\u001b[0m     \u001b[38;5;28;01mif\u001b[39;00m \u001b[38;5;28misinstance\u001b[39m(observation_space, space_type):\n\u001b[1;32m--> 404\u001b[0m         \u001b[38;5;28;01mreturn\u001b[39;00m \u001b[43mis_vec_obs_func\u001b[49m\u001b[43m(\u001b[49m\u001b[43mobservation\u001b[49m\u001b[43m,\u001b[49m\u001b[43m \u001b[49m\u001b[43mobservation_space\u001b[49m\u001b[43m)\u001b[49m  \u001b[38;5;66;03m# type: ignore[operator]\u001b[39;00m\n\u001b[0;32m    405\u001b[0m \u001b[38;5;28;01melse\u001b[39;00m:\n\u001b[0;32m    406\u001b[0m     \u001b[38;5;66;03m# for-else happens if no break is called\u001b[39;00m\n\u001b[0;32m    407\u001b[0m     \u001b[38;5;28;01mraise\u001b[39;00m \u001b[38;5;167;01mValueError\u001b[39;00m(\u001b[38;5;124mf\u001b[39m\u001b[38;5;124m\"\u001b[39m\u001b[38;5;124mError: Cannot determine if the observation is vectorized with the space type \u001b[39m\u001b[38;5;132;01m{\u001b[39;00mobservation_space\u001b[38;5;132;01m}\u001b[39;00m\u001b[38;5;124m.\u001b[39m\u001b[38;5;124m\"\u001b[39m)\n",
      "File \u001b[1;32md:\\Projects\\venv\\lib\\site-packages\\stable_baselines3\\common\\utils.py:271\u001b[0m, in \u001b[0;36mis_vectorized_box_observation\u001b[1;34m(observation, observation_space)\u001b[0m\n\u001b[0;32m    269\u001b[0m     \u001b[38;5;28;01mreturn\u001b[39;00m \u001b[38;5;28;01mTrue\u001b[39;00m\n\u001b[0;32m    270\u001b[0m \u001b[38;5;28;01melse\u001b[39;00m:\n\u001b[1;32m--> 271\u001b[0m     \u001b[38;5;28;01mraise\u001b[39;00m \u001b[38;5;167;01mValueError\u001b[39;00m(\n\u001b[0;32m    272\u001b[0m         \u001b[38;5;124mf\u001b[39m\u001b[38;5;124m\"\u001b[39m\u001b[38;5;124mError: Unexpected observation shape \u001b[39m\u001b[38;5;132;01m{\u001b[39;00mobservation\u001b[38;5;241m.\u001b[39mshape\u001b[38;5;132;01m}\u001b[39;00m\u001b[38;5;124m for \u001b[39m\u001b[38;5;124m\"\u001b[39m\n\u001b[0;32m    273\u001b[0m         \u001b[38;5;241m+\u001b[39m \u001b[38;5;124mf\u001b[39m\u001b[38;5;124m\"\u001b[39m\u001b[38;5;124mBox environment, please use \u001b[39m\u001b[38;5;132;01m{\u001b[39;00mobservation_space\u001b[38;5;241m.\u001b[39mshape\u001b[38;5;132;01m}\u001b[39;00m\u001b[38;5;124m \u001b[39m\u001b[38;5;124m\"\u001b[39m\n\u001b[0;32m    274\u001b[0m         \u001b[38;5;241m+\u001b[39m \u001b[38;5;124m\"\u001b[39m\u001b[38;5;124mor (n_env, \u001b[39m\u001b[38;5;132;01m{}\u001b[39;00m\u001b[38;5;124m) for the observation shape.\u001b[39m\u001b[38;5;124m\"\u001b[39m\u001b[38;5;241m.\u001b[39mformat(\u001b[38;5;124m\"\u001b[39m\u001b[38;5;124m, \u001b[39m\u001b[38;5;124m\"\u001b[39m\u001b[38;5;241m.\u001b[39mjoin(\u001b[38;5;28mmap\u001b[39m(\u001b[38;5;28mstr\u001b[39m, observation_space\u001b[38;5;241m.\u001b[39mshape)))\n\u001b[0;32m    275\u001b[0m     )\n",
      "\u001b[1;31mValueError\u001b[0m: Error: Unexpected observation shape (16,) for Box environment, please use (26,) or (n_env, 26) for the observation shape."
     ]
    }
   ],
   "source": [
    "logger = train()\n",
    "plot_metrics(logger)\n",
    "test_model()"
   ]
  }
 ],
 "metadata": {
  "kernelspec": {
   "display_name": "venv",
   "language": "python",
   "name": "python3"
  },
  "language_info": {
   "codemirror_mode": {
    "name": "ipython",
    "version": 3
   },
   "file_extension": ".py",
   "mimetype": "text/x-python",
   "name": "python",
   "nbconvert_exporter": "python",
   "pygments_lexer": "ipython3",
   "version": "3.10.12"
  }
 },
 "nbformat": 4,
 "nbformat_minor": 5
}
